{
 "cells": [
  {
   "metadata": {},
   "cell_type": "markdown",
   "source": [
    "# Module Overview\n",
    "\n",
    "This module covers everything you need to know about parsing and ingesting data for RAG systems, from basic text files to complex PDFs and databases. We'll use LangChain v0.3 and explore each technique with practical examples.\n",
    "\n",
    "## Table of contents\n",
    "- Introduction to Data Ingestion\n",
    "- Text Files(.txt)\n",
    "- Markdown Files (.md)\n",
    "- PDF Documents\n",
    "- Microsoft Word Documents\n",
    "- CSV and Excel files\n",
    "- JSON and Structured Data\n",
    "- Web Scraping\n",
    "- Databases (SQL)\n",
    "- Audio and Video Transcripts\n",
    "- Advanced Techniques\n",
    "- Best Practices"
   ],
   "id": "11c9e5ec098d4910"
  },
  {
   "metadata": {},
   "cell_type": "markdown",
   "source": "### Introduction To Data Ingestion",
   "id": "e03bf6e1bd301bdb"
  },
  {
   "metadata": {
    "ExecuteTime": {
     "end_time": "2025-10-27T12:54:25.359165Z",
     "start_time": "2025-10-27T12:54:24.323440Z"
    }
   },
   "cell_type": "code",
   "source": [
    "import os\n",
    "from os.path import exists\n",
    "from typing import List, Dict, Any\n",
    "import pandas as pd"
   ],
   "id": "5c9cf264b2ebb075",
   "outputs": [],
   "execution_count": 2
  },
  {
   "metadata": {
    "ExecuteTime": {
     "end_time": "2025-10-27T13:03:12.610568Z",
     "start_time": "2025-10-27T13:03:12.601720Z"
    }
   },
   "cell_type": "code",
   "source": [
    "from langchain_core.documents import Document\n",
    "print(\"Set up completed!\")"
   ],
   "id": "efa4d8cc359ad971",
   "outputs": [
    {
     "name": "stdout",
     "output_type": "stream",
     "text": [
      "Set up completed!\n"
     ]
    }
   ],
   "execution_count": 6
  },
  {
   "metadata": {},
   "cell_type": "markdown",
   "source": " ### Understanding Document Structure In LangChain",
   "id": "90dd8b72572d0b27"
  },
  {
   "metadata": {
    "ExecuteTime": {
     "end_time": "2025-10-28T05:24:28.899211Z",
     "start_time": "2025-10-28T05:24:28.891976Z"
    }
   },
   "cell_type": "code",
   "source": [
    "# Create a simple document\n",
    "\n",
    "doc = Document(\n",
    "    page_content=\"This is the main text content that will be embedded and searched\",\n",
    "    metadata={\n",
    "        \"source\":\"example.txt\",\n",
    "        \"page\": 1,\n",
    "        \"author\": \"Binod Kafle\",\n",
    "        \"date_created\": \"2025-10-26\"\n",
    "    }\n",
    ")\n",
    "\n",
    "print(\"Document Structure\")\n",
    "\n",
    "print(f\"Content: {doc.page_content}\")\n",
    "print(f\"Metadata: {doc.metadata}\")\n",
    "\n",
    "# Why metadata matters:\n",
    "print(\"Metadata is crucial for:\")\n",
    "print(\"- Filtering search results\")\n",
    "print(\"- Tracking document sources\")\n",
    "print(\"- Providing context in responses\")\n",
    "print(\"- Debugging and auditing\")"
   ],
   "id": "9afbf4c68aae306f",
   "outputs": [
    {
     "name": "stdout",
     "output_type": "stream",
     "text": [
      "Document Structure\n",
      "Content: This is the main text content that will be embedded and searched\n",
      "Metadata: {'source': 'example.txt', 'page': 1, 'author': 'Binod Kafle', 'date_created': '2025-10-26'}\n",
      "Metadata is crucial for:\n",
      "- Filtering search results\n",
      "- Tracking document sources\n",
      "- Providing context in responses\n",
      "- Debugging and auditing\n"
     ]
    }
   ],
   "execution_count": 10
  },
  {
   "metadata": {},
   "cell_type": "markdown",
   "source": "### Text Files (.txt) - The Simplest Case {#2-text-files}",
   "id": "572801cae4b7730d"
  },
  {
   "metadata": {
    "ExecuteTime": {
     "end_time": "2025-10-28T05:28:23.110057Z",
     "start_time": "2025-10-28T05:28:23.107372Z"
    }
   },
   "cell_type": "code",
   "source": [
    "# create a simple txt file\n",
    "import os\n",
    "os.makedirs(\"data/text_files\", exist_ok=True)"
   ],
   "id": "6022f86088d94ebc",
   "outputs": [],
   "execution_count": 11
  },
  {
   "metadata": {
    "ExecuteTime": {
     "end_time": "2025-10-28T05:35:05.782841Z",
     "start_time": "2025-10-28T05:35:05.773945Z"
    }
   },
   "cell_type": "code",
   "source": [
    "sample_texts = {\n",
    "    \"data/text_files/python_intro.txt\":\"\"\"Python Programming Introduction\n",
    "\n",
    "Python is a high-level, interpreted programming language known for its simplicity, readability, and versatility. Created by Guido van Rossum and first released in 1991, Python was designed to emphasize code readability with its clean syntax and use of indentation. Its philosophy focuses on making programming easier and more intuitive, allowing developers to express complex concepts in fewer lines of code compared to other languages like C++ or Java.\n",
    "\n",
    "Python supports multiple programming paradigms, including procedural, object-oriented, and functional programming, which makes it a powerful choice for a wide range of applications. It comes with an extensive standard library and a vibrant ecosystem of third-party packages that simplify tasks such as data analysis, web development, automation, artificial intelligence, and scientific computing. Popular frameworks like Django, Flask, TensorFlow, and Pandas are built on Python, further extending its capabilities across industries.\n",
    "\n",
    "Because of its ease of learning and wide applicability, Python has become one of the most popular programming languages in the world. It’s used by beginners learning to code, as well as professionals working in fields like web development, data science, machine learning, and cybersecurity. Python’s open-source nature, large community, and continuous development ensure that it remains a vital and evolving tool for software developers and researchers alike.\"\"\",\n",
    "\n",
    "    \"data/text_files/machine_learning.txt\": \"\"\"Machine Learning Basics\n",
    "Machine learning (ML) is a branch of artificial intelligence (AI) that enables computers to learn and make decisions without being explicitly programmed. Instead of following strict, rule-based instructions, machine learning systems use data to identify patterns, make predictions, and improve their performance over time. The basic idea is to feed a computer a large amount of data and allow it to “learn” relationships or trends from that data through mathematical models and algorithms.\n",
    "\n",
    "There are three main types of machine learning: supervised learning, unsupervised learning, and reinforcement learning. In supervised learning, models are trained using labeled data — for example, teaching a model to recognize cats in photos by providing many examples labeled “cat” or “not cat.” Unsupervised learning, on the other hand, deals with unlabeled data, where the algorithm tries to find hidden patterns or groupings (like clustering customers by behavior). Reinforcement learning involves training an agent through trial and error, where it learns to take actions in an environment to maximize rewards — such as a robot learning to walk or an AI playing a video game.\n",
    "\n",
    "Machine learning has a wide range of applications in everyday life and industry. It powers technologies like voice assistants (e.g., Siri, Alexa), recommendation systems (e.g., Netflix, YouTube), fraud detection, medical diagnosis, and self-driving cars. As data becomes more abundant and computing power increases, machine learning continues to advance rapidly, playing a key role in shaping the future of automation, analytics, and decision-making across many sectors.\n",
    "    \"\"\"\n",
    "}\n",
    "\n",
    "for filepath, content in sample_texts.items():\n",
    "    with open(filepath, 'w', encoding=\"utf-8\") as f:\n",
    "        f.write(content)\n",
    "\n",
    "print(\"Sample text files created!\")"
   ],
   "id": "50e0dcacabe3a206",
   "outputs": [
    {
     "name": "stdout",
     "output_type": "stream",
     "text": [
      "Sample text files created!\n"
     ]
    }
   ],
   "execution_count": 12
  },
  {
   "metadata": {},
   "cell_type": "markdown",
   "source": "### TextLoader - Read Single File\n",
   "id": "d1585d03effa77de"
  },
  {
   "metadata": {
    "ExecuteTime": {
     "end_time": "2025-10-28T05:43:04.478098Z",
     "start_time": "2025-10-28T05:43:04.473626Z"
    }
   },
   "cell_type": "code",
   "source": [
    "from langchain_community.document_loaders import TextLoader\n",
    "\n",
    "# loading a single text file\n",
    "loader = TextLoader(\"data/text_files/python_intro.txt\", encoding=\"utf-8\")\n",
    "\n",
    "documents = loader.load()\n",
    "print(type(documents))\n",
    "\n",
    "print(f\"Loaded {len(documents)} document\")\n",
    "print(f\"Content preview: {documents[0].page_content[:100]}...\")\n",
    "print(f\"Metadata: {documents[0].metadata}\")\n"
   ],
   "id": "2a3313a1a5fdcc12",
   "outputs": [
    {
     "name": "stdout",
     "output_type": "stream",
     "text": [
      "<class 'list'>\n",
      "Loaded 1 document\n",
      "Content preview: Python Programming Introduction\n",
      "\n",
      "Python is a high-level, interpreted programming language known for ...\n",
      "Metadata: {'source': 'data/text_files/python_intro.txt'}\n"
     ]
    }
   ],
   "execution_count": 16
  },
  {
   "metadata": {},
   "cell_type": "markdown",
   "source": "### DirectoryLoader - Multiple Text Files",
   "id": "e5e223f9a251c055"
  },
  {
   "metadata": {
    "ExecuteTime": {
     "end_time": "2025-10-28T05:55:53.460457Z",
     "start_time": "2025-10-28T05:55:53.447941Z"
    }
   },
   "cell_type": "code",
   "source": [
    "from langchain_community.document_loaders import DirectoryLoader\n",
    "\n",
    "## load all the text files from the directory\n",
    "dir_loader = DirectoryLoader(\n",
    "    \"data/text_files\",\n",
    "    glob=\"**/*.txt\", # Pattern to match files\n",
    "    loader_cls=TextLoader, ## loader class to use\n",
    "    loader_kwargs={\"encoding\":\"utf-8\"},\n",
    "    show_progress=True,\n",
    ")\n",
    "\n",
    "documents = dir_loader.load()\n",
    "\n",
    "print(f\" Loaded {len(documents)} documents\")\n",
    "for i, doc in enumerate(documents):\n",
    "    print(f\"\\nDocument {i+1}:\")\n",
    "    print(f\" Source: {doc.metadata[\"source\"]}\")\n",
    "    print(f\" Length: {len(doc.page_content)} characters\")\n",
    "\n",
    "# 📊 Analysis\n",
    "print(\"\\n📊 DirectoryLoader Characteristics:\")\n",
    "print(\"✅ Advantages:\")\n",
    "print(\"  - Loads multiple files at once\")\n",
    "print(\"  - Supports glob patterns\")\n",
    "print(\"  - Progress tracking\")\n",
    "print(\"  - Recursive directory scanning\")\n",
    "\n",
    "print(\"\\n❌ Disadvantages:\")\n",
    "print(\"  - All files must be same type\")\n",
    "print(\"  - Limited error handling per file\")\n",
    "print(\"  - Can be memory intensive for large directories\")"
   ],
   "id": "44893fb10f2510da",
   "outputs": [
    {
     "name": "stderr",
     "output_type": "stream",
     "text": [
      "100%|██████████| 2/2 [00:00<00:00, 777.30it/s]"
     ]
    },
    {
     "name": "stdout",
     "output_type": "stream",
     "text": [
      " Loaded 2 documents\n",
      "\n",
      "Document 1:\n",
      " Source: data/text_files/python_intro.txt\n",
      " Length: 1482 characters\n",
      "\n",
      "Document 2:\n",
      " Source: data/text_files/machine_learning.txt\n",
      " Length: 1672 characters\n",
      "\n",
      "📊 DirectoryLoader Characteristics:\n",
      "✅ Advantages:\n",
      "  - Loads multiple files at once\n",
      "  - Supports glob patterns\n",
      "  - Progress tracking\n",
      "  - Recursive directory scanning\n",
      "\n",
      "❌ Disadvantages:\n",
      "  - All files must be same type\n",
      "  - Limited error handling per file\n",
      "  - Can be memory intensive for large directories\n"
     ]
    },
    {
     "name": "stderr",
     "output_type": "stream",
     "text": [
      "\n"
     ]
    }
   ],
   "execution_count": 19
  },
  {
   "metadata": {},
   "cell_type": "markdown",
   "source": "### Text Splitting Strategies",
   "id": "beffb99c1b5d86d7"
  },
  {
   "metadata": {
    "ExecuteTime": {
     "end_time": "2025-10-28T05:59:01.994200Z",
     "start_time": "2025-10-28T05:59:01.990199Z"
    }
   },
   "cell_type": "code",
   "source": [
    "# Different text splitting strategies\n",
    "from langchain_text_splitters import RecursiveCharacterTextSplitter, CharacterTextSplitter, TokenTextSplitter\n",
    "\n",
    "print(documents)"
   ],
   "id": "3139de746cc42a07",
   "outputs": [
    {
     "name": "stdout",
     "output_type": "stream",
     "text": [
      "[Document(metadata={'source': 'data/text_files/python_intro.txt'}, page_content='Python Programming Introduction\\n\\nPython is a high-level, interpreted programming language known for its simplicity, readability, and versatility. Created by Guido van Rossum and first released in 1991, Python was designed to emphasize code readability with its clean syntax and use of indentation. Its philosophy focuses on making programming easier and more intuitive, allowing developers to express complex concepts in fewer lines of code compared to other languages like C++ or Java.\\n\\nPython supports multiple programming paradigms, including procedural, object-oriented, and functional programming, which makes it a powerful choice for a wide range of applications. It comes with an extensive standard library and a vibrant ecosystem of third-party packages that simplify tasks such as data analysis, web development, automation, artificial intelligence, and scientific computing. Popular frameworks like Django, Flask, TensorFlow, and Pandas are built on Python, further extending its capabilities across industries.\\n\\nBecause of its ease of learning and wide applicability, Python has become one of the most popular programming languages in the world. It’s used by beginners learning to code, as well as professionals working in fields like web development, data science, machine learning, and cybersecurity. Python’s open-source nature, large community, and continuous development ensure that it remains a vital and evolving tool for software developers and researchers alike.'), Document(metadata={'source': 'data/text_files/machine_learning.txt'}, page_content='Machine Learning Basics\\nMachine learning (ML) is a branch of artificial intelligence (AI) that enables computers to learn and make decisions without being explicitly programmed. Instead of following strict, rule-based instructions, machine learning systems use data to identify patterns, make predictions, and improve their performance over time. The basic idea is to feed a computer a large amount of data and allow it to “learn” relationships or trends from that data through mathematical models and algorithms.\\n\\nThere are three main types of machine learning: supervised learning, unsupervised learning, and reinforcement learning. In supervised learning, models are trained using labeled data — for example, teaching a model to recognize cats in photos by providing many examples labeled “cat” or “not cat.” Unsupervised learning, on the other hand, deals with unlabeled data, where the algorithm tries to find hidden patterns or groupings (like clustering customers by behavior). Reinforcement learning involves training an agent through trial and error, where it learns to take actions in an environment to maximize rewards — such as a robot learning to walk or an AI playing a video game.\\n\\nMachine learning has a wide range of applications in everyday life and industry. It powers technologies like voice assistants (e.g., Siri, Alexa), recommendation systems (e.g., Netflix, YouTube), fraud detection, medical diagnosis, and self-driving cars. As data becomes more abundant and computing power increases, machine learning continues to advance rapidly, playing a key role in shaping the future of automation, analytics, and decision-making across many sectors.\\n    ')]\n"
     ]
    }
   ],
   "execution_count": 21
  },
  {
   "metadata": {},
   "cell_type": "markdown",
   "source": "### Method 1 - Character Text Splitter\n",
   "id": "a6a861f966fccea2"
  },
  {
   "metadata": {
    "ExecuteTime": {
     "end_time": "2025-10-28T06:00:14.643782Z",
     "start_time": "2025-10-28T06:00:14.639135Z"
    }
   },
   "cell_type": "code",
   "source": [
    "text = documents[0].page_content\n",
    "text"
   ],
   "id": "73d944c0a646398",
   "outputs": [
    {
     "data": {
      "text/plain": [
       "'Python Programming Introduction\\n\\nPython is a high-level, interpreted programming language known for its simplicity, readability, and versatility. Created by Guido van Rossum and first released in 1991, Python was designed to emphasize code readability with its clean syntax and use of indentation. Its philosophy focuses on making programming easier and more intuitive, allowing developers to express complex concepts in fewer lines of code compared to other languages like C++ or Java.\\n\\nPython supports multiple programming paradigms, including procedural, object-oriented, and functional programming, which makes it a powerful choice for a wide range of applications. It comes with an extensive standard library and a vibrant ecosystem of third-party packages that simplify tasks such as data analysis, web development, automation, artificial intelligence, and scientific computing. Popular frameworks like Django, Flask, TensorFlow, and Pandas are built on Python, further extending its capabilities across industries.\\n\\nBecause of its ease of learning and wide applicability, Python has become one of the most popular programming languages in the world. It’s used by beginners learning to code, as well as professionals working in fields like web development, data science, machine learning, and cybersecurity. Python’s open-source nature, large community, and continuous development ensure that it remains a vital and evolving tool for software developers and researchers alike.'"
      ]
     },
     "execution_count": 24,
     "metadata": {},
     "output_type": "execute_result"
    }
   ],
   "execution_count": 24
  },
  {
   "metadata": {
    "ExecuteTime": {
     "end_time": "2025-10-28T06:05:40.644831Z",
     "start_time": "2025-10-28T06:05:40.632597Z"
    }
   },
   "cell_type": "code",
   "source": [
    "# Method 1 - Character Text Splitter\n",
    "print(\"Character Text Splitter Example\")\n",
    "char_splitter = CharacterTextSplitter(\n",
    "    separator=\"\\n\", # Split on new lines\n",
    "    chunk_size=200,  # Max chunk size in characters\n",
    "    chunk_overlap=20, # Overlap between chunks\n",
    "    length_function=len # How to measure chunk size\n",
    ")\n",
    "\n",
    "char_chunks = char_splitter.split_text(text)\n",
    "print(f\"Created {len(char_chunks)} chunks\")\n",
    "print(f\"First chunk: {char_chunks[0][:100]}...\")"
   ],
   "id": "f86c915f6d90cd4f",
   "outputs": [
    {
     "name": "stderr",
     "output_type": "stream",
     "text": [
      "Created a chunk of size 453, which is longer than the specified 200\n",
      "Created a chunk of size 533, which is longer than the specified 200\n"
     ]
    },
    {
     "name": "stdout",
     "output_type": "stream",
     "text": [
      "Character Text Splitter Example\n",
      "Created 4 chunks\n",
      "First chunk: Python Programming Introduction...\n"
     ]
    }
   ],
   "execution_count": 25
  },
  {
   "metadata": {
    "ExecuteTime": {
     "end_time": "2025-10-28T06:12:54.577974Z",
     "start_time": "2025-10-28T06:12:54.567553Z"
    }
   },
   "cell_type": "code",
   "source": [
    "# Method 2: Recursive character splitting (RECOMMENDED)\n",
    "print(\"\\n RECURSIVE CHARACTER SPLITTER\")\n",
    "recursive_splitter = RecursiveCharacterTextSplitter(\n",
    "    separators=[\"\\n\\n\", \"\\n\", \" \", \"\"], # Try these separators in order\n",
    "    chunk_size=200,\n",
    "    chunk_overlap=20,\n",
    "    length_function=len\n",
    ")\n",
    "\n",
    "recursive_chunks = recursive_splitter.split_text(text)\n",
    "print(f\"Created {len(recursive_chunks)} chunks\")\n",
    "print(f\"First Chunk: {recursive_chunks[0][:100]}...\")"
   ],
   "id": "d1efcc0fc82cd19a",
   "outputs": [
    {
     "name": "stdout",
     "output_type": "stream",
     "text": [
      "\n",
      " RECURSIVE CHARACTER SPLITTER\n",
      "Created 10 chunks\n",
      "First Chunk: Python Programming Introduction...\n"
     ]
    }
   ],
   "execution_count": 26
  },
  {
   "metadata": {
    "ExecuteTime": {
     "end_time": "2025-10-28T06:14:24.966021Z",
     "start_time": "2025-10-28T06:14:24.963045Z"
    }
   },
   "cell_type": "code",
   "source": [
    "print(recursive_chunks[0])\n",
    "print(\"-----------------\")\n",
    "print(recursive_chunks[1])\n",
    "print(\"------------------\")\n",
    "print(recursive_chunks[2])"
   ],
   "id": "127796630f8c3bdc",
   "outputs": [
    {
     "name": "stdout",
     "output_type": "stream",
     "text": [
      "Python Programming Introduction\n",
      "-----------------\n",
      "Python is a high-level, interpreted programming language known for its simplicity, readability, and versatility. Created by Guido van Rossum and first released in 1991, Python was designed to\n",
      "------------------\n",
      "was designed to emphasize code readability with its clean syntax and use of indentation. Its philosophy focuses on making programming easier and more intuitive, allowing developers to express complex\n"
     ]
    }
   ],
   "execution_count": 27
  },
  {
   "metadata": {
    "ExecuteTime": {
     "end_time": "2025-10-28T06:16:37.914630Z",
     "start_time": "2025-10-28T06:16:37.911091Z"
    }
   },
   "cell_type": "code",
   "source": [
    "# Create text without natural break points\n",
    "simple_text = \"This is sentence one and it is quite long. This is sentence two and it is also quite long. This is sentence three which is even longer than the others. This is sentence four. This is sentence five. This is sentence six.\"\n",
    "\n",
    "splitter = RecursiveCharacterTextSplitter(\n",
    "    separators=[\" \"],  # Only split on spaces\n",
    "    chunk_size=80,\n",
    "    chunk_overlap=20,\n",
    "    length_function=len\n",
    ")\n",
    "\n",
    "chunks = splitter.split_text(simple_text)\n",
    "\n",
    "print(f\"\\nSimple text example - {len(chunks)} chunks:\\n\")\n",
    "\n",
    "for i in range(len(chunks) - 1):\n",
    "    print(f\"Chunk {i+1}: '{chunks[i]}'\")\n",
    "    print(f\"Chunk {i+2}: '{chunks[i+1]}'\")\n",
    "\n",
    "\n",
    "    print()"
   ],
   "id": "75b647b7fd8ef2e1",
   "outputs": [
    {
     "name": "stdout",
     "output_type": "stream",
     "text": [
      "\n",
      "Simple text example - 4 chunks:\n",
      "\n",
      "Chunk 1: 'This is sentence one and it is quite long. This is sentence two and it is also'\n",
      "Chunk 2: 'two and it is also quite long. This is sentence three which is even longer than'\n",
      "\n",
      "Chunk 2: 'two and it is also quite long. This is sentence three which is even longer than'\n",
      "Chunk 3: 'is even longer than the others. This is sentence four. This is sentence five.'\n",
      "\n",
      "Chunk 3: 'is even longer than the others. This is sentence four. This is sentence five.'\n",
      "Chunk 4: 'is sentence five. This is sentence six.'\n",
      "\n"
     ]
    }
   ],
   "execution_count": 28
  },
  {
   "metadata": {
    "ExecuteTime": {
     "end_time": "2025-10-28T06:21:41.744681Z",
     "start_time": "2025-10-28T06:21:26.284042Z"
    }
   },
   "cell_type": "code",
   "source": [
    "# Method 3: Token-based splitting\n",
    "print(\"\\n TOKEN TEXT SPLITTER\")\n",
    "token_splitter = TokenTextSplitter(\n",
    "    chunk_size=50, # Size in tokens (not characters\n",
    "    chunk_overlap=10\n",
    ")\n",
    "\n",
    "token_chunks = token_splitter.split_text(text)\n",
    "print(f\"Created {len(token_chunks)} chunks\")\n",
    "print(f\"First chunk: {token_chunks[0][:100]}...\")"
   ],
   "id": "8f603631b3a7c97f",
   "outputs": [
    {
     "name": "stdout",
     "output_type": "stream",
     "text": [
      "\n",
      " TOKEN TEXT SPLITTER\n",
      "Created 7 chunks\n",
      "First chunk: Python Programming Introduction\n",
      "\n",
      "Python is a high-level, interpreted programming language known for ...\n"
     ]
    }
   ],
   "execution_count": 29
  },
  {
   "metadata": {
    "ExecuteTime": {
     "end_time": "2025-10-28T06:24:17.042419Z",
     "start_time": "2025-10-28T06:24:17.033886Z"
    }
   },
   "cell_type": "code",
   "source": [
    "# 📊 Comparison\n",
    "print(\"\\n📊 Text Splitting Methods Comparison:\")\n",
    "print(\"\\nCharacterTextSplitter:\")\n",
    "print(\"  ✅ Simple and predictable\")\n",
    "print(\"  ✅ Good for structured text\")\n",
    "print(\"  ❌ May break mid-sentence\")\n",
    "print(\"  Use when: Text has clear delimiters\")\n",
    "\n",
    "print(\"\\nRecursiveCharacterTextSplitter:\")\n",
    "print(\"  ✅ Respects text structure\")\n",
    "print(\"  ✅ Tries multiple separators\")\n",
    "print(\"  ✅ Best general-purpose splitter\")\n",
    "print(\"  ❌ Slightly more complex\")\n",
    "print(\"  Use when: Default choice for most texts\")\n",
    "\n",
    "print(\"\\nTokenTextSplitter:\")\n",
    "print(\"  ✅ Respects model token limits\")\n",
    "print(\"  ✅ More accurate for embeddings\")\n",
    "print(\"  ❌ Slower than character-based\")\n",
    "print(\"  Use when: Working with token-limited models\")"
   ],
   "id": "5c6464768cdba196",
   "outputs": [
    {
     "name": "stdout",
     "output_type": "stream",
     "text": [
      "\n",
      "📊 Text Splitting Methods Comparison:\n",
      "\n",
      "CharacterTextSplitter:\n",
      "  ✅ Simple and predictable\n",
      "  ✅ Good for structured text\n",
      "  ❌ May break mid-sentence\n",
      "  Use when: Text has clear delimiters\n",
      "\n",
      "RecursiveCharacterTextSplitter:\n",
      "  ✅ Respects text structure\n",
      "  ✅ Tries multiple separators\n",
      "  ✅ Best general-purpose splitter\n",
      "  ❌ Slightly more complex\n",
      "  Use when: Default choice for most texts\n",
      "\n",
      "TokenTextSplitter:\n",
      "  ✅ Respects model token limits\n",
      "  ✅ More accurate for embeddings\n",
      "  ❌ Slower than character-based\n",
      "  Use when: Working with token-limited models\n"
     ]
    }
   ],
   "execution_count": 30
  },
  {
   "metadata": {},
   "cell_type": "code",
   "outputs": [],
   "execution_count": null,
   "source": "",
   "id": "7af70f2f93a892bb"
  }
 ],
 "metadata": {},
 "nbformat": 4,
 "nbformat_minor": 5
}
