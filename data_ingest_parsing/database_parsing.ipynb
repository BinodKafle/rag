{
 "cells": [
  {
   "metadata": {},
   "cell_type": "markdown",
   "source": "### SQL Databases",
   "id": "f71f4f0188000f37"
  },
  {
   "metadata": {
    "ExecuteTime": {
     "end_time": "2025-10-29T13:14:41.853419Z",
     "start_time": "2025-10-29T13:14:41.849973Z"
    }
   },
   "cell_type": "code",
   "source": [
    "## create sample SQLite Database\n",
    "import sqlite3\n",
    "import os\n",
    "\n",
    "os.makedirs(\"data/databases\",exist_ok=True)"
   ],
   "id": "81553d9c12f80f97",
   "outputs": [],
   "execution_count": 1
  },
  {
   "metadata": {
    "ExecuteTime": {
     "end_time": "2025-10-29T13:15:21.699863Z",
     "start_time": "2025-10-29T13:15:21.691259Z"
    }
   },
   "cell_type": "code",
   "source": [
    "## create sample database\n",
    "conn=sqlite3.connect('data/databases/company.db')\n",
    "cursor=conn.cursor()"
   ],
   "id": "5cb5706d43acb41",
   "outputs": [],
   "execution_count": 2
  },
  {
   "metadata": {
    "ExecuteTime": {
     "end_time": "2025-10-29T13:15:50.705269Z",
     "start_time": "2025-10-29T13:15:50.691424Z"
    }
   },
   "cell_type": "code",
   "source": [
    "# Create tables\n",
    "cursor.execute('''CREATE TABLE IF NOT EXISTS employees\n",
    "                 (id INTEGER PRIMARY KEY, name TEXT, role TEXT, department TEXT, salary REAL)''')"
   ],
   "id": "93bbac298ef2cf54",
   "outputs": [
    {
     "data": {
      "text/plain": [
       "<sqlite3.Cursor at 0x1068b5340>"
      ]
     },
     "execution_count": 3,
     "metadata": {},
     "output_type": "execute_result"
    }
   ],
   "execution_count": 3
  },
  {
   "metadata": {
    "ExecuteTime": {
     "end_time": "2025-10-29T13:16:04.276119Z",
     "start_time": "2025-10-29T13:16:04.269182Z"
    }
   },
   "cell_type": "code",
   "source": [
    "cursor.execute('''CREATE TABLE IF NOT EXISTS projects\n",
    "                 (id INTEGER PRIMARY KEY, name TEXT, status TEXT, budget REAL, lead_id INTEGER)''')"
   ],
   "id": "770e72a65d1eabfa",
   "outputs": [
    {
     "data": {
      "text/plain": [
       "<sqlite3.Cursor at 0x1068b5340>"
      ]
     },
     "execution_count": 4,
     "metadata": {},
     "output_type": "execute_result"
    }
   ],
   "execution_count": 4
  },
  {
   "metadata": {
    "ExecuteTime": {
     "end_time": "2025-10-29T13:16:24.805134Z",
     "start_time": "2025-10-29T13:16:24.800702Z"
    }
   },
   "cell_type": "code",
   "source": [
    "# Insert sample data\n",
    "employees = [\n",
    "    (1, 'John Doe', 'Senior Developer', 'Engineering', 95000),\n",
    "    (2, 'Jane Smith', 'Data Scientist', 'Analytics', 105000),\n",
    "    (3, 'Mike Johnson', 'Product Manager', 'Product', 110000),\n",
    "    (4, 'Sarah Williams', 'DevOps Engineer', 'Engineering', 98000)\n",
    "]\n",
    "\n",
    "projects = [\n",
    "    (1, 'RAG Implementation', 'Active', 150000, 1),\n",
    "    (2, 'Data Pipeline', 'Completed', 80000, 2),\n",
    "    (3, 'Customer Portal', 'Planning', 200000, 3),\n",
    "    (4, 'ML Platform', 'Active', 250000, 2)\n",
    "]"
   ],
   "id": "ed4a32ca4b10697f",
   "outputs": [],
   "execution_count": 5
  },
  {
   "metadata": {
    "ExecuteTime": {
     "end_time": "2025-10-29T13:16:46.758646Z",
     "start_time": "2025-10-29T13:16:46.741122Z"
    }
   },
   "cell_type": "code",
   "source": [
    "cursor.executemany('INSERT OR REPLACE INTO employees VALUES (?,?,?,?,?)', employees)\n",
    "cursor.executemany('INSERT OR REPLACE INTO projects VALUES (?,?,?,?,?)', projects)"
   ],
   "id": "118ed290388785b",
   "outputs": [
    {
     "data": {
      "text/plain": [
       "<sqlite3.Cursor at 0x1068b5340>"
      ]
     },
     "execution_count": 6,
     "metadata": {},
     "output_type": "execute_result"
    }
   ],
   "execution_count": 6
  },
  {
   "metadata": {
    "ExecuteTime": {
     "end_time": "2025-10-29T13:16:57.119128Z",
     "start_time": "2025-10-29T13:16:57.112914Z"
    }
   },
   "cell_type": "code",
   "source": "cursor.execute(\"Select * from employees\")",
   "id": "dbc2731791a08eac",
   "outputs": [
    {
     "data": {
      "text/plain": [
       "<sqlite3.Cursor at 0x1068b5340>"
      ]
     },
     "execution_count": 7,
     "metadata": {},
     "output_type": "execute_result"
    }
   ],
   "execution_count": 7
  },
  {
   "metadata": {
    "ExecuteTime": {
     "end_time": "2025-10-29T13:17:09.288801Z",
     "start_time": "2025-10-29T13:17:09.282997Z"
    }
   },
   "cell_type": "code",
   "source": [
    "conn.commit()\n",
    "conn.close()"
   ],
   "id": "4a8c3ab611f7305e",
   "outputs": [],
   "execution_count": 8
  },
  {
   "metadata": {},
   "cell_type": "markdown",
   "source": "## Database Content Extraction",
   "id": "1f83e17d77b3fcaf"
  },
  {
   "metadata": {
    "ExecuteTime": {
     "end_time": "2025-10-29T13:18:12.972999Z",
     "start_time": "2025-10-29T13:18:01.108380Z"
    }
   },
   "cell_type": "code",
   "source": [
    "from langchain_community.utilities import SQLDatabase\n",
    "from langchain_community.document_loaders import SQLDatabaseLoader"
   ],
   "id": "746cbf98ee3e98c9",
   "outputs": [
    {
     "name": "stderr",
     "output_type": "stream",
     "text": [
      "/Users/binod.kafle/Documents/personal/learning/rag/.venv/lib/python3.13/site-packages/tqdm/auto.py:21: TqdmWarning: IProgress not found. Please update jupyter and ipywidgets. See https://ipywidgets.readthedocs.io/en/stable/user_install.html\n",
      "  from .autonotebook import tqdm as notebook_tqdm\n"
     ]
    }
   ],
   "execution_count": 9
  },
  {
   "metadata": {
    "ExecuteTime": {
     "end_time": "2025-10-29T13:18:16.157368Z",
     "start_time": "2025-10-29T13:18:16.102766Z"
    }
   },
   "cell_type": "code",
   "source": [
    "## MEthod1 SQLDATABASE Utility\n",
    "db = SQLDatabase.from_uri(\"sqlite:///data/databases/company.db\")\n",
    "\n",
    "## get Database info\n",
    "print(f\"Tables: {db.get_usable_table_names()}\")\n",
    "print(f\"\\nTable DDL:\")\n",
    "print(db.get_table_info())"
   ],
   "id": "1bdf330c8ccd33e2",
   "outputs": [
    {
     "name": "stdout",
     "output_type": "stream",
     "text": [
      "Tables: ['employees', 'projects']\n",
      "\n",
      "Table DDL:\n",
      "\n",
      "CREATE TABLE employees (\n",
      "\tid INTEGER, \n",
      "\tname TEXT, \n",
      "\trole TEXT, \n",
      "\tdepartment TEXT, \n",
      "\tsalary REAL, \n",
      "\tPRIMARY KEY (id)\n",
      ")\n",
      "\n",
      "/*\n",
      "3 rows from employees table:\n",
      "id\tname\trole\tdepartment\tsalary\n",
      "1\tJohn Doe\tSenior Developer\tEngineering\t95000.0\n",
      "2\tJane Smith\tData Scientist\tAnalytics\t105000.0\n",
      "3\tMike Johnson\tProduct Manager\tProduct\t110000.0\n",
      "*/\n",
      "\n",
      "\n",
      "CREATE TABLE projects (\n",
      "\tid INTEGER, \n",
      "\tname TEXT, \n",
      "\tstatus TEXT, \n",
      "\tbudget REAL, \n",
      "\tlead_id INTEGER, \n",
      "\tPRIMARY KEY (id)\n",
      ")\n",
      "\n",
      "/*\n",
      "3 rows from projects table:\n",
      "id\tname\tstatus\tbudget\tlead_id\n",
      "1\tRAG Implementation\tActive\t150000.0\t1\n",
      "2\tData Pipeline\tCompleted\t80000.0\t2\n",
      "3\tCustomer Portal\tPlanning\t200000.0\t3\n",
      "*/\n"
     ]
    }
   ],
   "execution_count": 10
  },
  {
   "metadata": {
    "ExecuteTime": {
     "end_time": "2025-10-29T13:19:37.863721Z",
     "start_time": "2025-10-29T13:19:37.850189Z"
    }
   },
   "cell_type": "code",
   "source": [
    "from typing import List\n",
    "from langchain_core.documents import Document\n",
    "# Method 2: Custom SQL to Document conversion\n",
    "print(\"\\n2️⃣ Custom SQL Processing\")\n",
    "\n",
    "def sql_to_documents(db_path:str)-> List[Document]:\n",
    "    \"\"\"Convert SQL Database To documents with context\"\"\"\n",
    "    conn=sqlite3.connect(db_path)\n",
    "    cursor=conn.cursor()\n",
    "    documents=[]\n",
    "    # Strategy 1: Create documents for each table\n",
    "    cursor.execute(\"SELECT name FROM sqlite_master WHERE type='table';\")\n",
    "    tables = cursor.fetchall()\n",
    "\n",
    "    for table in tables:\n",
    "        table_name = table[0]\n",
    "\n",
    "        # Get table schema\n",
    "        cursor.execute(f\"PRAGMA table_info({table_name});\")\n",
    "        columns = cursor.fetchall()\n",
    "        column_names = [col[1] for col in columns]\n",
    "\n",
    "        # Get table data\n",
    "        cursor.execute(f\"SELECT * FROM {table_name}\")\n",
    "        rows = cursor.fetchall()\n",
    "\n",
    "        # Create table overview document\n",
    "        table_content = f\"Table: {table_name}\\n\"\n",
    "        table_content += f\"Columns: {', '.join(column_names)}\\n\"\n",
    "        table_content += f\"Total Records: {len(rows)}\\n\\n\"\n",
    "\n",
    "        # Add sample records\n",
    "        table_content += \"Sample Records:\\n\"\n",
    "        for row in rows[:5]:  # First 5 records\n",
    "            record = dict(zip(column_names, row))\n",
    "            table_content += f\"{record}\\n\"\n",
    "\n",
    "        doc = Document(\n",
    "            page_content=table_content,\n",
    "            metadata={\n",
    "                'source': db_path,\n",
    "                'table_name': table_name,\n",
    "                'num_records': len(rows),\n",
    "                'data_type': 'sql_table'\n",
    "            }\n",
    "        )\n",
    "        documents.append(doc)\n",
    "\n",
    "     # Strategy 2: Create relationship documents\n",
    "    # Example: Join employees and projects\n",
    "    cursor.execute(\"\"\"\n",
    "        SELECT e.name, e.role, p.name as project_name, p.status\n",
    "        FROM employees e\n",
    "        JOIN projects p ON e.id = p.lead_id\n",
    "    \"\"\")\n",
    "\n",
    "    relationships = cursor.fetchall()\n",
    "    rel_content = \"Employee-Project Relationships:\\n\\n\"\n",
    "    for rel in relationships:\n",
    "        rel_content += f\"{rel[0]} ({rel[1]}) leads {rel[2]} - Status: {rel[3]}\\n\"\n",
    "\n",
    "    rel_doc = Document(\n",
    "        page_content=rel_content,\n",
    "        metadata={\n",
    "            'source': db_path,\n",
    "            'data_type': 'sql_relationships',\n",
    "            'query': 'employee_project_join'\n",
    "        }\n",
    "    )\n",
    "    documents.append(rel_doc)\n",
    "\n",
    "    conn.close()\n",
    "    return documents"
   ],
   "id": "755f4863fe3a295e",
   "outputs": [
    {
     "name": "stdout",
     "output_type": "stream",
     "text": [
      "\n",
      "2️⃣ Custom SQL Processing\n"
     ]
    }
   ],
   "execution_count": 11
  },
  {
   "metadata": {
    "ExecuteTime": {
     "end_time": "2025-10-29T13:19:56.924147Z",
     "start_time": "2025-10-29T13:19:56.911038Z"
    }
   },
   "cell_type": "code",
   "source": "sql_to_documents(\"data/databases/company.db\")",
   "id": "912d370bb50b1275",
   "outputs": [
    {
     "data": {
      "text/plain": [
       "[Document(metadata={'source': 'data/databases/company.db', 'table_name': 'employees', 'num_records': 4, 'data_type': 'sql_table'}, page_content=\"Table: employees\\nColumns: id, name, role, department, salary\\nTotal Records: 4\\n\\nSample Records:\\n{'id': 1, 'name': 'John Doe', 'role': 'Senior Developer', 'department': 'Engineering', 'salary': 95000.0}\\n{'id': 2, 'name': 'Jane Smith', 'role': 'Data Scientist', 'department': 'Analytics', 'salary': 105000.0}\\n{'id': 3, 'name': 'Mike Johnson', 'role': 'Product Manager', 'department': 'Product', 'salary': 110000.0}\\n{'id': 4, 'name': 'Sarah Williams', 'role': 'DevOps Engineer', 'department': 'Engineering', 'salary': 98000.0}\\n\"),\n",
       " Document(metadata={'source': 'data/databases/company.db', 'table_name': 'projects', 'num_records': 4, 'data_type': 'sql_table'}, page_content=\"Table: projects\\nColumns: id, name, status, budget, lead_id\\nTotal Records: 4\\n\\nSample Records:\\n{'id': 1, 'name': 'RAG Implementation', 'status': 'Active', 'budget': 150000.0, 'lead_id': 1}\\n{'id': 2, 'name': 'Data Pipeline', 'status': 'Completed', 'budget': 80000.0, 'lead_id': 2}\\n{'id': 3, 'name': 'Customer Portal', 'status': 'Planning', 'budget': 200000.0, 'lead_id': 3}\\n{'id': 4, 'name': 'ML Platform', 'status': 'Active', 'budget': 250000.0, 'lead_id': 2}\\n\"),\n",
       " Document(metadata={'source': 'data/databases/company.db', 'data_type': 'sql_relationships', 'query': 'employee_project_join'}, page_content='Employee-Project Relationships:\\n\\nJohn Doe (Senior Developer) leads RAG Implementation - Status: Active\\nJane Smith (Data Scientist) leads Data Pipeline - Status: Completed\\nMike Johnson (Product Manager) leads Customer Portal - Status: Planning\\nJane Smith (Data Scientist) leads ML Platform - Status: Active\\n')]"
      ]
     },
     "execution_count": 12,
     "metadata": {},
     "output_type": "execute_result"
    }
   ],
   "execution_count": 12
  }
 ],
 "metadata": {},
 "nbformat": 4,
 "nbformat_minor": 5
}
